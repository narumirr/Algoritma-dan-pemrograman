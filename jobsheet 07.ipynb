{
  "nbformat": 4,
  "nbformat_minor": 0,
  "metadata": {
    "colab": {
      "provenance": [],
      "authorship_tag": "ABX9TyPRoG4Soka0xHU0L7wqKUVL",
      "include_colab_link": true
    },
    "kernelspec": {
      "name": "python3",
      "display_name": "Python 3"
    },
    "language_info": {
      "name": "python"
    }
  },
  "cells": [
    {
      "cell_type": "markdown",
      "metadata": {
        "id": "view-in-github",
        "colab_type": "text"
      },
      "source": [
        "<a href=\"https://colab.research.google.com/github/narumirr/Algoritma-dan-pemrograman/blob/main/jobsheet%2007.ipynb\" target=\"_parent\"><img src=\"https://colab.research.google.com/assets/colab-badge.svg\" alt=\"Open In Colab\"/></a>"
      ]
    },
    {
      "cell_type": "markdown",
      "source": [
        "# Praktikum 01 - Tuple: Data Tetap yang Tidak Bisa Diubah"
      ],
      "metadata": {
        "id": "BFe43su8YTPS"
      }
    },
    {
      "cell_type": "code",
      "execution_count": null,
      "metadata": {
        "colab": {
          "base_uri": "https://localhost:8080/"
        },
        "id": "1O6yD8zCX1gS",
        "outputId": "665b7fe4-be59-4ea2-a2b2-d3589d5a7569"
      },
      "outputs": [
        {
          "output_type": "stream",
          "name": "stdout",
          "text": [
            "Lintang: 7.05\n",
            "Bujur:  110.44\n"
          ]
        }
      ],
      "source": [
        "koordinat = (7.05, 110.44)\n",
        "print(\"Lintang:\", koordinat[0])\n",
        "print(\"Bujur: \", koordinat[1])"
      ]
    },
    {
      "cell_type": "markdown",
      "source": [
        "# Praktikum 02 - Dictionary Dasar: Menyimpan Data Mahasiswa"
      ],
      "metadata": {
        "id": "DngdKOPrZcjM"
      }
    },
    {
      "cell_type": "code",
      "source": [
        "mahasiswa = {\n",
        "    \"NIM\": \"20251001\",\n",
        "    \"Nama\": \"Andi\",\n",
        "    \"Prodi\": \"TRK\"\n",
        "}\n",
        "\n",
        "print(\"NIM: \", mahasiswa[\"NIM\"])\n",
        "print(\"Nama: \", mahasiswa[\"Nama\"])\n",
        "print(\"Prodi: \", mahasiswa[\"Prodi\"])"
      ],
      "metadata": {
        "colab": {
          "base_uri": "https://localhost:8080/"
        },
        "id": "uQwt7R9rZn5Z",
        "outputId": "9828ba92-e9cf-4b83-99a2-f82fb1e83e3c"
      },
      "execution_count": null,
      "outputs": [
        {
          "output_type": "stream",
          "name": "stdout",
          "text": [
            "NIM:  20251001\n",
            "Nama:  Andi\n",
            "Prodi:  TRK\n"
          ]
        }
      ]
    },
    {
      "cell_type": "markdown",
      "source": [
        "# Praktikum 03 - Operasi pada Dictionary"
      ],
      "metadata": {
        "id": "MBrfezyjasyD"
      }
    },
    {
      "cell_type": "code",
      "source": [
        "mahasiswa = {\n",
        "    \"NIM\": \"20251001\",\n",
        "    \"Nama\": \"Andi\",\n",
        "    \"Prodi\": \"TRK\"\n",
        "}\n",
        "\n",
        "mahasiswa[\"Umur\"] = 20                  #menambah data\n",
        "mahasiswa[\"Prodi\"] = \"Teknik Komputer\"  #memperbarui data\n",
        "del mahasiswa[\"Umur\"]                   #menghapus data\n",
        "\n",
        "print(mahasiswa)"
      ],
      "metadata": {
        "colab": {
          "base_uri": "https://localhost:8080/"
        },
        "id": "fgmHUc76anpg",
        "outputId": "fb555d76-f054-48b8-82cd-ae95d7370ccc"
      },
      "execution_count": null,
      "outputs": [
        {
          "output_type": "stream",
          "name": "stdout",
          "text": [
            "{'NIM': '20251001', 'Nama': 'Andi', 'Prodi': 'Teknik Komputer'}\n"
          ]
        }
      ]
    },
    {
      "cell_type": "markdown",
      "source": [
        "# Praktikum 04 - Set dan Operasi Himpunan"
      ],
      "metadata": {
        "id": "UHSJUVzQb0Ay"
      }
    },
    {
      "cell_type": "code",
      "source": [
        "A = {1, 2, 3, 4}\n",
        "B = {3, 4, 5, 6}\n",
        "\n",
        "print(\"Union:\", A | B)\n",
        "print(\"Intersection:\", A & B)\n",
        "print(\"Difference:\", A - B)"
      ],
      "metadata": {
        "colab": {
          "base_uri": "https://localhost:8080/"
        },
        "id": "-qMWYXkEb8LJ",
        "outputId": "48635bef-87ec-4104-a6a7-9865e032eab5"
      },
      "execution_count": null,
      "outputs": [
        {
          "output_type": "stream",
          "name": "stdout",
          "text": [
            "Union: {1, 2, 3, 4, 5, 6}\n",
            "Intersection: {3, 4}\n",
            "Difference: {1, 2}\n"
          ]
        }
      ]
    },
    {
      "cell_type": "markdown",
      "source": [
        "# Praktikum 05 - Studi Kasus: Data Mahasiswa dan Mata Kuliah"
      ],
      "metadata": {
        "id": "Zb3PTu0lcmVa"
      }
    },
    {
      "cell_type": "code",
      "source": [
        "mhs1 = {\"Algoritma\", \"Matematika\", \"Bahasa Inggris\"}\n",
        "mhs2 = {\"Algoritma\", \"Basis Data\", \"Matematika\"}\n",
        "\n",
        "print(\"Mata kuliah Mhs1: \", mhs1)\n",
        "print(\"Mata kuliah Mhs2: \", mhs2)\n",
        "print(\"Mata kuliah yang sama: \", mhs1 & mhs2)"
      ],
      "metadata": {
        "colab": {
          "base_uri": "https://localhost:8080/"
        },
        "id": "SZgmBC9Tcugy",
        "outputId": "6d3bd5d9-b6ba-4534-a9c6-a4388960f1d5"
      },
      "execution_count": null,
      "outputs": [
        {
          "output_type": "stream",
          "name": "stdout",
          "text": [
            "Mata kuliah Mhs1:  {'Bahasa Inggris', 'Matematika', 'Algoritma'}\n",
            "Mata kuliah Mhs2:  {'Matematika', 'Algoritma', 'Basis Data'}\n",
            "Mata kuliah yang sama:  {'Matematika', 'Algoritma'}\n"
          ]
        }
      ]
    },
    {
      "cell_type": "markdown",
      "source": [
        "# Praktikum 06 - Studi Kasus Dictionary: Daftar Nilai Mahasiswa"
      ],
      "metadata": {
        "id": "orA-phnSeA9v"
      }
    },
    {
      "cell_type": "code",
      "source": [
        "nilai_mahasiswa = {\n",
        "    \"Andi\": 80,\n",
        "    \"Budi\": 75,\n",
        "    \"Cici\": 90\n",
        "    }\n",
        "\n",
        "for nama, nilai in nilai_mahasiswa.items():\n",
        "    print(f\"{nama}: {nilai}\")\n",
        "\n",
        "rata = sum(nilai_mahasiswa.values()) / len(nilai_mahasiswa)\n",
        "print(f\"Rata-rata nilai: {rata:.2f}\")"
      ],
      "metadata": {
        "colab": {
          "base_uri": "https://localhost:8080/"
        },
        "id": "8x_9TZ8ed7ri",
        "outputId": "8a37867f-870c-448a-ac45-69591f92a77e"
      },
      "execution_count": null,
      "outputs": [
        {
          "output_type": "stream",
          "name": "stdout",
          "text": [
            "Andi: 80\n",
            "Budi: 75\n",
            "Cici: 90\n",
            "Rata-rata nilai: 81.67\n"
          ]
        }
      ]
    },
    {
      "cell_type": "markdown",
      "source": [
        "# Penugasan 01 - Tuple Sederhana"
      ],
      "metadata": {
        "id": "U3ivLl1tg7ma"
      }
    },
    {
      "cell_type": "code",
      "source": [
        "mahasiswa = (\"Amir\", \"19\", \"Teknologi Rekayasa Komputer\")\n",
        "\n",
        "print(\"Nama: \", mahasiswa[0])\n",
        "print(\"Umur: \", mahasiswa[1])\n",
        "print(\"Prodi: \", mahasiswa[2])\n"
      ],
      "metadata": {
        "colab": {
          "base_uri": "https://localhost:8080/"
        },
        "id": "SyfRq1XIhKHK",
        "outputId": "114e4954-f071-4d65-8aad-93d808c2cf9c"
      },
      "execution_count": 1,
      "outputs": [
        {
          "output_type": "stream",
          "name": "stdout",
          "text": [
            "Nama:  Amir\n",
            "Umur:  19\n",
            "Prodi:  Teknologi Rekayasa Komputer\n"
          ]
        }
      ]
    },
    {
      "cell_type": "markdown",
      "source": [
        "# Penugasan 02 - Tuple Tidak Bisa Diubah"
      ],
      "metadata": {
        "id": "FaMazIXH6vze"
      }
    },
    {
      "cell_type": "code",
      "source": [
        "angka = (1, 2, 3)\n",
        "\n",
        "try:\n",
        "    angka[0] = 5\n",
        "except TypeError as e:\n",
        "  print(\"Terjadi error:\", e)\n",
        "\n",
        "print(\"Isi tuple:\", angka)"
      ],
      "metadata": {
        "colab": {
          "base_uri": "https://localhost:8080/"
        },
        "id": "u4HkkfEP60YC",
        "outputId": "6832b718-8f6e-4e36-de95-734bc86aa1c7"
      },
      "execution_count": 2,
      "outputs": [
        {
          "output_type": "stream",
          "name": "stdout",
          "text": [
            "Terjadi error: 'tuple' object does not support item assignment\n",
            "Isi tuple: (1, 2, 3)\n"
          ]
        }
      ]
    },
    {
      "cell_type": "markdown",
      "source": [
        "# Penugasan 03 - Dictionary Dasar"
      ],
      "metadata": {
        "id": "0Xlqc5DG61HC"
      }
    },
    {
      "cell_type": "code",
      "source": [
        "buku = {\n",
        "    \"Judul\": \"Algoritma\",\n",
        "    \"Penulis\": \"Munir\",\n",
        "    \"Tahun\": \"2021\"\n",
        "}\n",
        "\n",
        "print(\"Judul  :\", buku[\"Judul\"])\n",
        "print(\"Penulis:\", buku[\"Penulis\"])\n",
        "print(\"Tahun  :\", buku[\"Tahun\"])"
      ],
      "metadata": {
        "colab": {
          "base_uri": "https://localhost:8080/"
        },
        "id": "ajV55FPN67bs",
        "outputId": "808adca5-c595-4616-8662-04843afa9159"
      },
      "execution_count": 3,
      "outputs": [
        {
          "output_type": "stream",
          "name": "stdout",
          "text": [
            "Judul  : Algoritma\n",
            "Penulis: Munir\n",
            "Tahun  : 2021\n"
          ]
        }
      ]
    },
    {
      "cell_type": "markdown",
      "source": [
        "# Penugasan 04 - Operasi Dictionary"
      ],
      "metadata": {
        "id": "hBtt5JIv68hK"
      }
    },
    {
      "cell_type": "code",
      "source": [
        "data_dosen = {\n",
        "    \"NIP\": \"12345\",\n",
        "    \"Nama\": \"Budi\",\n",
        "    \"Prodi\": \"TRK\"\n",
        "}\n",
        "\n",
        "data_dosen[\"Umur\"] = 40\n",
        "data_dosen[\"Prodi\"] = \"Teknik Komputer\"\n",
        "del data_dosen [\"Umur\"]\n",
        "\n",
        "print(\"Data akhir dosen:\", data_dosen)"
      ],
      "metadata": {
        "colab": {
          "base_uri": "https://localhost:8080/"
        },
        "id": "QYjkYIlM7EM7",
        "outputId": "0804fb9a-6ab1-47ed-ef91-4b82ac225c4f"
      },
      "execution_count": 5,
      "outputs": [
        {
          "output_type": "stream",
          "name": "stdout",
          "text": [
            "Data akhir dosen: {'NIP': '12345', 'Nama': 'Budi', 'Prodi': 'Teknik Komputer'}\n"
          ]
        }
      ]
    },
    {
      "cell_type": "markdown",
      "source": [
        "# Penugasan 05 - Set dan Himpunan"
      ],
      "metadata": {
        "id": "n-cjpCJ77DZd"
      }
    },
    {
      "cell_type": "code",
      "source": [
        "A = {\"Matematika\", \"Algoritma\", \"Bahasa Inggris\"}\n",
        "B = {\"Algoritma\", \"Basis Data\", \"Matematika\"}\n",
        "\n",
        "print(\"Union (gabungan)      :\", A | B)\n",
        "print(\"intersection (irisan) :\", A & B)\n",
        "print(\"Difference (selisih)  :\", A - B)"
      ],
      "metadata": {
        "colab": {
          "base_uri": "https://localhost:8080/"
        },
        "id": "c_LWozOP7K2w",
        "outputId": "16236079-f9b5-4a2b-fbb5-2156be903319"
      },
      "execution_count": 6,
      "outputs": [
        {
          "output_type": "stream",
          "name": "stdout",
          "text": [
            "Union (gabungan)      : {'Bahasa Inggris', 'Algoritma', 'Basis Data', 'Matematika'}\n",
            "intersection (irisan) : {'Algoritma', 'Matematika'}\n",
            "Difference (selisih)  : {'Bahasa Inggris'}\n"
          ]
        }
      ]
    },
    {
      "cell_type": "markdown",
      "source": [
        "# Penugasan 06 - Studi Kasus Dictionary"
      ],
      "metadata": {
        "id": "ebmzBYtW7Nmx"
      }
    },
    {
      "cell_type": "code",
      "source": [
        "nilai = {\n",
        "    \"Andi\": 85,\n",
        "    \"Budi\": 90,\n",
        "    \"Cici\": 78\n",
        "    }\n",
        "\n",
        "print(\"Daftar Nilai Mahasiswa:\")\n",
        "for nama, skor in nilai.items():\n",
        "    print(f\"{nama}: {skor}\")\n",
        "\n",
        "rata_rata = sum(nilai.values()) / len(nilai)\n",
        "print(f\"Nilai rata - rata: {rata_rata:.2f}\")\n",
        "\n"
      ],
      "metadata": {
        "id": "hUqWUYRC7Shh",
        "outputId": "06376ddf-6b11-4ba6-d232-478aafe5d0c1",
        "colab": {
          "base_uri": "https://localhost:8080/"
        }
      },
      "execution_count": 10,
      "outputs": [
        {
          "output_type": "stream",
          "name": "stdout",
          "text": [
            "Daftar Nilai Mahasiswa:\n",
            "Andi: 85\n",
            "Budi: 90\n",
            "Cici: 78\n",
            "Nilai rata - rata: 84.33\n"
          ]
        }
      ]
    },
    {
      "cell_type": "markdown",
      "source": [
        "# Penugasan 07 - Studi Kasus Set - Klub Mahasiswa"
      ],
      "metadata": {
        "id": "xYVOFJ2i7TaZ"
      }
    },
    {
      "cell_type": "code",
      "source": [
        "Klub_A = {\"Andi\", \"Budi\", \"Cici\"}\n",
        "Klub_B = {\"Cici\", \"Deni\", \"Eka\"}\n",
        "\n",
        "print(\"Seluruh anggota (Union)             :\", Klub_A | Klub_B)\n",
        "print(\"Anggota di kedua klub (Intesection) :\", Klub_A & Klub_B)\n",
        "print(\"Anggota hanya di Klub A (Difference):\", Klub_A - Klub_B)\n",
        "\n"
      ],
      "metadata": {
        "id": "EhwrXPF67Z2-",
        "outputId": "c244c7b0-db11-4a95-de64-f749481bb294",
        "colab": {
          "base_uri": "https://localhost:8080/"
        }
      },
      "execution_count": 12,
      "outputs": [
        {
          "output_type": "stream",
          "name": "stdout",
          "text": [
            "Seluruh anggota (Union)             : {'Andi', 'Eka', 'Budi', 'Cici', 'Deni'}\n",
            "Anggota di kedua klub (Intesection) : {'Cici'}\n",
            "Anggota hanya di Klub A (Difference): {'Andi', 'Budi'}\n"
          ]
        }
      ]
    }
  ]
}