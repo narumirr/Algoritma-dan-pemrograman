{
  "nbformat": 4,
  "nbformat_minor": 0,
  "metadata": {
    "colab": {
      "provenance": [],
      "authorship_tag": "ABX9TyPOzrCBE4NemzSpqR0Bz3qs",
      "include_colab_link": true
    },
    "kernelspec": {
      "name": "python3",
      "display_name": "Python 3"
    },
    "language_info": {
      "name": "python"
    }
  },
  "cells": [
    {
      "cell_type": "markdown",
      "metadata": {
        "id": "view-in-github",
        "colab_type": "text"
      },
      "source": [
        "<a href=\"https://colab.research.google.com/github/narumirr/Algoritma-dan-pemrograman/blob/main/Copy_of_Praktikum_01.ipynb\" target=\"_parent\"><img src=\"https://colab.research.google.com/assets/colab-badge.svg\" alt=\"Open In Colab\"/></a>"
      ]
    },
    {
      "cell_type": "markdown",
      "source": [
        "# Menghitung Luas Persegi Panjang"
      ],
      "metadata": {
        "id": "CujBg6Ov31Zt"
      }
    },
    {
      "cell_type": "code",
      "source": [
        "p = int(input(\"Masukan panjang: \"))\n",
        "l = int(input(\"Masukan lebar: \"))\n",
        "\n",
        "luas = p * l\n",
        "print(\"Luas persegi panjang =\", luas)"
      ],
      "metadata": {
        "colab": {
          "base_uri": "https://localhost:8080/"
        },
        "id": "UKxyHedY39Hz",
        "outputId": "eb4e237b-32c0-4212-fb8e-556774bf5b5c"
      },
      "execution_count": null,
      "outputs": [
        {
          "output_type": "stream",
          "name": "stdout",
          "text": [
            "Masukan panjang: 10\n",
            "Masukan lebar: 5\n",
            "Luas persegi panjang = 50\n"
          ]
        }
      ]
    },
    {
      "cell_type": "markdown",
      "source": [
        "# Menghitung Luas Segitiga (Rumus Heron)"
      ],
      "metadata": {
        "id": "LHhZ93uY9LdF"
      }
    },
    {
      "cell_type": "code",
      "source": [
        "import math\n",
        "\n",
        "a = float(input(\"Masukkan sisi a: \"))\n",
        "b = float(input(\"Masukkan sisi b: \"))\n",
        "c = float(input(\"Masukkan sisi c: \"))\n",
        "\n",
        "s = (a + b +c) / 2\n",
        "luas = math.sqrt(s * (s - a) * (s - b) * (s - c))\n",
        "print (\"Luas segitiga =\", luas)"
      ],
      "metadata": {
        "colab": {
          "base_uri": "https://localhost:8080/"
        },
        "id": "LsX-3U1_8PHo",
        "outputId": "18a587ec-07e5-411c-9082-12250c3b2445"
      },
      "execution_count": null,
      "outputs": [
        {
          "output_type": "stream",
          "name": "stdout",
          "text": [
            "Masukkan sisi a: 6\n",
            "Masukkan sisi b: 6\n",
            "Masukkan sisi c: 6\n",
            "Luas segitiga = 15.588457268119896\n"
          ]
        }
      ]
    },
    {
      "cell_type": "markdown",
      "source": [
        "# Konversi Suhu Celcius ke Fahrenheit"
      ],
      "metadata": {
        "id": "RPfVurzmBM2w"
      }
    },
    {
      "cell_type": "code",
      "source": [
        "c = float(input(\"Masukkkan suhu (C): \"))\n",
        "f = (c * 9/5) + 32\n",
        "print(\"Hasil konversi =\", f, \"F\")"
      ],
      "metadata": {
        "colab": {
          "base_uri": "https://localhost:8080/"
        },
        "id": "bSkEFc75AYK-",
        "outputId": "46982820-93df-47fa-8aa9-f2c923baff42"
      },
      "execution_count": null,
      "outputs": [
        {
          "output_type": "stream",
          "name": "stdout",
          "text": [
            "Masukkkan suhu (C): 7\n",
            "Hasil konversi = 44.6 F\n"
          ]
        }
      ]
    },
    {
      "cell_type": "markdown",
      "source": [
        "# Menghitung Umur Berdasarkan Tahun Lahir"
      ],
      "metadata": {
        "id": "a9ddhoBpDlga"
      }
    },
    {
      "cell_type": "code",
      "source": [
        "tahun_lahir = int(input(\"Masukkan tahun lahir: \"))\n",
        "tahun_sekarang = 2025\n",
        "umur = tahun_sekarang - tahun_lahir\n",
        "print(\"Umur anda =\", umur, \"tahun\")"
      ],
      "metadata": {
        "colab": {
          "base_uri": "https://localhost:8080/"
        },
        "id": "4LlavLTfCYJu",
        "outputId": "692fbe34-0975-41bb-c0a4-3ecd28410120"
      },
      "execution_count": null,
      "outputs": [
        {
          "output_type": "stream",
          "name": "stdout",
          "text": [
            "Masukkan tahun lahir: 2006\n",
            "Umur anda = 19 tahun\n"
          ]
        }
      ]
    },
    {
      "cell_type": "markdown",
      "source": [
        "# Menghitung Luas Lingkaran"
      ],
      "metadata": {
        "id": "jJO9N0NgEzVa"
      }
    },
    {
      "cell_type": "code",
      "source": [
        "import math\n",
        "r = float(input(\"Masukkan jari-jari lingkaran: \"))\n",
        "luas = math.pi * r * r\n",
        "print(\"Luas lingkaran =\", luas)"
      ],
      "metadata": {
        "id": "amScHqT5Dkc8",
        "colab": {
          "base_uri": "https://localhost:8080/"
        },
        "outputId": "1a935472-f61a-4d31-d5f1-d3a84c8c42b0"
      },
      "execution_count": null,
      "outputs": [
        {
          "output_type": "stream",
          "name": "stdout",
          "text": [
            "Masukkan jari-jari lingkaran: 7\n",
            "Luas lingkaran = 153.93804002589985\n"
          ]
        }
      ]
    },
    {
      "cell_type": "markdown",
      "source": [
        "# Menjumlahkan Tiga Bilangan\n",
        "\n"
      ],
      "metadata": {
        "id": "EU1KGJ6oScHm"
      }
    },
    {
      "cell_type": "code",
      "source": [
        "a = int(input(\"Masukkan bilangan pertama: \"))\n",
        "b = int(input(\"Masukkan bilangan kedua: \"))\n",
        "c = int(input(\"Masukkan bilangan ketiga:\"))\n",
        "jumlah = a + b + c\n",
        "print(\"Jumlah =\", jumlah)\n"
      ],
      "metadata": {
        "colab": {
          "base_uri": "https://localhost:8080/"
        },
        "id": "d-NPQuWhR8TD",
        "outputId": "2725c1e1-f549-4507-bd1b-89a6cb9d9ffc"
      },
      "execution_count": null,
      "outputs": [
        {
          "output_type": "stream",
          "name": "stdout",
          "text": [
            "Masukkan bilangan pertama: 21\n",
            "Masukkan bilangan kedua: 43\n",
            "Masukkan bilangan ketiga:12\n",
            "Jumlah = 76\n"
          ]
        }
      ]
    },
    {
      "cell_type": "markdown",
      "source": [
        "# Menghitung Volume Balok"
      ],
      "metadata": {
        "id": "HyWHFYlDzq-1"
      }
    },
    {
      "cell_type": "code",
      "source": [
        "panjang = int(input(\"Masukkan panjang balok: \"))\n",
        "lebar   = int(input(\"Masukkan lebar balok: \"))\n",
        "tinggi  = int(input(\"Masukkan tinggi balok: \"))\n",
        "volume = panjang * lebar * tinggi\n",
        "print(\"Volume Balok =\", volume)"
      ],
      "metadata": {
        "id": "pGRu3VErTrwH",
        "colab": {
          "base_uri": "https://localhost:8080/"
        },
        "outputId": "f0188125-ca7f-4365-9c9f-bc5d4c69c3e0"
      },
      "execution_count": null,
      "outputs": [
        {
          "output_type": "stream",
          "name": "stdout",
          "text": [
            "Masukkan panjang balok: 2\n",
            "Masukkan lebar balok: 4\n",
            "Masukkan tinggi balok: 10\n",
            "Volume Balok = 80\n"
          ]
        }
      ]
    },
    {
      "cell_type": "markdown",
      "source": [
        "# Konversi Waktu (Detik ke Jam:Menit:Detik)"
      ],
      "metadata": {
        "id": "W2h_OXk4K0rd"
      }
    },
    {
      "cell_type": "code",
      "source": [
        "jumlahDetik = int(input(\"Masukkan jumlah Detik: \"))\n",
        "jam = jumlahDetik // 3600\n",
        "sisaDetik = jumlahDetik % 3600\n",
        "menit = sisaDetik // 60\n",
        "detik = sisaDetik % 60\n",
        "print(\"Jadi Hasil Konversi dari\", jumlahDetik, \"Detik hasilnya adalah: \", jam, \" Jam, \", menit, \" menit, \", detik, \" detik\")"
      ],
      "metadata": {
        "colab": {
          "base_uri": "https://localhost:8080/"
        },
        "id": "kChhVdxm0jNv",
        "outputId": "611b9729-1483-489b-8d9b-03d95c5aa487"
      },
      "execution_count": null,
      "outputs": [
        {
          "output_type": "stream",
          "name": "stdout",
          "text": [
            "Masukkan jumlah Detik6127\n",
            "Jadi Hasil Konversi dari  6127 Detik hasilnya adalah:  1  Jam,  42  menit,  7  detik\n"
          ]
        }
      ]
    },
    {
      "cell_type": "markdown",
      "source": [
        "# Rata - Rata Nilai Tiga Mata Kuliah"
      ],
      "metadata": {
        "id": "sDp7srTJXuIt"
      }
    },
    {
      "cell_type": "code",
      "source": [
        "a = int(input(\"Masukkan nilai mata kuliah pertama: \"))\n",
        "b = int(input(\"Masukkan nilai mata kuliah kedua:  \"))\n",
        "c = int(input(\"Masukkan nilai mata kuliah ketiga:  \"))\n",
        "Rerata = (a + b + c)/3\n",
        "if Rerata>=60:\n",
        "      keterangan = \"Lulus\"\n",
        "else:\n",
        "      keterangan = \"Tidak lulus\"\n",
        "print(\"Rata -rata nilai:  \", Rerata)\n",
        "print(\"Keterangan:  \", keterangan)\n"
      ],
      "metadata": {
        "id": "1rZppuoLO3P2",
        "colab": {
          "base_uri": "https://localhost:8080/"
        },
        "outputId": "02bcb670-548e-4e02-cd6b-2b5ce405d6fc"
      },
      "execution_count": null,
      "outputs": [
        {
          "output_type": "stream",
          "name": "stdout",
          "text": [
            "Masukkan nilai mata kuliah pertama: 70\n",
            "Masukkan nilai mata kuliah kedua:  90\n",
            "Masukkan nilai mata kuliah ketiga:  85\n",
            "Rata -rata nilai:   81.66666666666667\n",
            "Keterangan:   Lulus\n"
          ]
        }
      ]
    },
    {
      "cell_type": "markdown",
      "source": [
        "# Menghitung Diskon Belanja"
      ],
      "metadata": {
        "id": "f-vjSunvk2Zk"
      }
    },
    {
      "cell_type": "code",
      "source": [
        "totalBelanja = int(input(\"Masukkan total belanja:  \"))\n",
        "if totalBelanja>= 500000:\n",
        "      diskon = totalBelanja * 0.2\n",
        "elif totalBelanja>= 250000:\n",
        "      diskon = totalBelanja * 0.1\n",
        "else: diskon = 0\n",
        "totalBayar = totalBelanja - diskon\n",
        "print(\"Total Belanja =  \", totalBelanja)\n",
        "print(\"Diskon =  \", diskon)\n",
        "print(\"Total Bayar =  \", totalBayar)"
      ],
      "metadata": {
        "colab": {
          "base_uri": "https://localhost:8080/"
        },
        "id": "hyjS-hvTZ22p",
        "outputId": "5d1d0066-2b15-49e6-c78e-b03c866e9741"
      },
      "execution_count": null,
      "outputs": [
        {
          "output_type": "stream",
          "name": "stdout",
          "text": [
            "Masukkan total belanja:  600000\n",
            "Total Belanja =   600000\n",
            "Diskon =   120000.0\n",
            "Total Bayar =   480000.0\n"
          ]
        }
      ]
    },
    {
      "cell_type": "code",
      "source": [],
      "metadata": {
        "id": "lZ_08FvEnz-3"
      },
      "execution_count": null,
      "outputs": []
    }
  ]
}
