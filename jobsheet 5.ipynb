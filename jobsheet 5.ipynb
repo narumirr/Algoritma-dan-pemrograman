{
  "nbformat": 4,
  "nbformat_minor": 0,
  "metadata": {
    "colab": {
      "provenance": [],
      "authorship_tag": "ABX9TyNJ7mEwVZALbzDB8W3YaB3h",
      "include_colab_link": true
    },
    "kernelspec": {
      "name": "python3",
      "display_name": "Python 3"
    },
    "language_info": {
      "name": "python"
    }
  },
  "cells": [
    {
      "cell_type": "markdown",
      "metadata": {
        "id": "view-in-github",
        "colab_type": "text"
      },
      "source": [
        "<a href=\"https://colab.research.google.com/github/narumirr/Algoritma-dan-pemrograman/blob/main/jobsheet%205.ipynb\" target=\"_parent\"><img src=\"https://colab.research.google.com/assets/colab-badge.svg\" alt=\"Open In Colab\"/></a>"
      ]
    },
    {
      "cell_type": "markdown",
      "source": [
        "# **PRAKTIKUM**"
      ],
      "metadata": {
        "id": "dRI8ahRkXBll"
      }
    },
    {
      "cell_type": "markdown",
      "source": [
        "# Praktikum 01 - Indexing dan Slicing"
      ],
      "metadata": {
        "id": "MhWV5QI2XJWZ"
      }
    },
    {
      "cell_type": "code",
      "execution_count": null,
      "metadata": {
        "colab": {
          "base_uri": "https://localhost:8080/"
        },
        "id": "wFmMUxZVW-c4",
        "outputId": "ad4cee32-e6d5-4408-c72e-4669d923ed10"
      },
      "outputs": [
        {
          "output_type": "stream",
          "name": "stdout",
          "text": [
            "P\n",
            "Politeknik \n",
            "Semarang\n"
          ]
        }
      ],
      "source": [
        "teks = \"Politeknik Negeri Semarang\"\n",
        "print(teks[0])  #'P'\n",
        "print(teks[0:11]) #'Politeknik'\n",
        "print(teks[-8:])  #'Semarang' 5:"
      ]
    },
    {
      "cell_type": "markdown",
      "source": [
        "# Praktikum 02 - Method Bawaan String"
      ],
      "metadata": {
        "id": "JMSYNwj-X_UH"
      }
    },
    {
      "cell_type": "code",
      "source": [
        "teks = \"Politeknik Negeri Semarang\"\n",
        "print(teks.upper())\n",
        "print(teks.lower())\n",
        "print(teks.title())\n",
        "print(teks.strip())\n",
        "print(teks.split())\n",
        "print(\"-\".join([\"Politeknik\",\"Negeri\",\"Semarang\"]))"
      ],
      "metadata": {
        "colab": {
          "base_uri": "https://localhost:8080/"
        },
        "id": "Gpu6aqX5X-RE",
        "outputId": "0415a584-fa8f-410e-a96b-7214c2cd373c"
      },
      "execution_count": 1,
      "outputs": [
        {
          "output_type": "stream",
          "name": "stdout",
          "text": [
            "POLITEKNIK NEGERI SEMARANG\n",
            "politeknik negeri semarang\n",
            "Politeknik Negeri Semarang\n",
            "Politeknik Negeri Semarang\n",
            "['Politeknik', 'Negeri', 'Semarang']\n",
            "Politeknik-Negeri-Semarang\n"
          ]
        }
      ]
    },
    {
      "cell_type": "markdown",
      "source": [
        "# Praktikum 03 - Validasi Password"
      ],
      "metadata": {
        "id": "JbZKNi-kjvy0"
      }
    },
    {
      "cell_type": "code",
      "source": [
        "password = input(\"Masukkan password: \")\n",
        "\n",
        "if len(password) >= 8:\n",
        "  print(\"Password valid\")\n",
        "else:\n",
        "  print(\"Password terlalu pendek\")"
      ],
      "metadata": {
        "id": "rVxxNBUNZ3sJ",
        "colab": {
          "base_uri": "https://localhost:8080/"
        },
        "outputId": "799aee12-8ce4-4885-89b4-8317185174cd"
      },
      "execution_count": 12,
      "outputs": [
        {
          "output_type": "stream",
          "name": "stdout",
          "text": [
            "Masukkan password: abc\n",
            "Password terlalu pendek\n"
          ]
        }
      ]
    },
    {
      "cell_type": "markdown",
      "source": [
        "# Praktikum 04 - String Formatting dengan F-String"
      ],
      "metadata": {
        "id": "_cNBqm5kkXd4"
      }
    },
    {
      "cell_type": "code",
      "source": [
        "nama = input(\"Masukkan nama: \")\n",
        "umur = int(input(\"Masukkan umur: \"))\n",
        "\n",
        "print(f\"Nama saya {nama}, umur {umur} tahun.\")"
      ],
      "metadata": {
        "colab": {
          "base_uri": "https://localhost:8080/"
        },
        "id": "ijznfBN6kP4o",
        "outputId": "80172d8b-654c-43ef-e810-ad7bb2cda34f"
      },
      "execution_count": 13,
      "outputs": [
        {
          "output_type": "stream",
          "name": "stdout",
          "text": [
            "Masukkan nama: Budi\n",
            "Masukkan umur: 21\n",
            "Nama saya Budi, umur 21 tahun.\n"
          ]
        }
      ]
    },
    {
      "cell_type": "markdown",
      "source": [
        "# Praktikum 05 - Operasi dalam F-String"
      ],
      "metadata": {
        "id": "WRomSuUNk2i9"
      }
    },
    {
      "cell_type": "code",
      "source": [
        "a = int(input(\"Masukkan nilai a: \"))\n",
        "b = int(input(\"Masukkan nilai b: \"))\n",
        "\n",
        "print(f\"Hasil penjumlahan {a}+{b} = {a+b}\")\n",
        "print(f\"Hasil pembagian {a}/{b} = {a/b:.2f}\")"
      ],
      "metadata": {
        "colab": {
          "base_uri": "https://localhost:8080/"
        },
        "id": "OES6vkpvkzMp",
        "outputId": "1f9da3bc-5479-46b3-f9ce-5569fee895e4"
      },
      "execution_count": 14,
      "outputs": [
        {
          "output_type": "stream",
          "name": "stdout",
          "text": [
            "Masukkan nilai a: 10\n",
            "Masukkan nilai b: 3\n",
            "Hasil penjumlahan 10+3 = 13\n",
            "Hasil pembagian 10/3 = 3.33\n"
          ]
        }
      ]
    },
    {
      "cell_type": "markdown",
      "source": [
        "# Praktikum 06 - Casting String"
      ],
      "metadata": {
        "id": "WHMuvMK3l4Mu"
      }
    },
    {
      "cell_type": "code",
      "source": [
        "angka = 123\n",
        "teks = \"456\"\n",
        "\n",
        "print(\"Nilai: \"+str(angka))\n",
        "print(int(teks) +10)"
      ],
      "metadata": {
        "colab": {
          "base_uri": "https://localhost:8080/"
        },
        "id": "Of2zA5O1lhFj",
        "outputId": "273696fb-89be-49e4-c8e6-76afe1fab1f2"
      },
      "execution_count": 9,
      "outputs": [
        {
          "output_type": "stream",
          "name": "stdout",
          "text": [
            "Nilai: 123\n",
            "466\n"
          ]
        }
      ]
    },
    {
      "cell_type": "markdown",
      "source": [
        "# Praktikum 07 - Studi Kasus Nyata: Analisis Kalimat"
      ],
      "metadata": {
        "id": "gBZ0a3uPmWF4"
      }
    },
    {
      "cell_type": "code",
      "source": [
        "kalimat = \"Saya kuliah di Politeknik Negeri Semarang\"\n",
        "daftar_kata = kalimat.split(\" \")\n",
        "\n",
        "print(f\"Jumlah kata: {len(daftar_kata)}\")\n",
        "for i, kata in enumerate(daftar_kata, start=1):\n",
        "  print(i, kata)"
      ],
      "metadata": {
        "colab": {
          "base_uri": "https://localhost:8080/"
        },
        "id": "3BUyMob0mNIM",
        "outputId": "94af26ad-cc70-405e-b11c-899b0000ca29"
      },
      "execution_count": 10,
      "outputs": [
        {
          "output_type": "stream",
          "name": "stdout",
          "text": [
            "Jumlah kata: 6\n",
            "1 Saya\n",
            "2 kuliah\n",
            "3 di\n",
            "4 Politeknik\n",
            "5 Negeri\n",
            "6 Semarang\n"
          ]
        }
      ]
    },
    {
      "cell_type": "markdown",
      "source": [
        "# **PENUGASAN**"
      ],
      "metadata": {
        "id": "VANMJbB6BRqc"
      }
    },
    {
      "cell_type": "markdown",
      "source": [
        "# Penugasan 01 - Indexing dan Slicing"
      ],
      "metadata": {
        "id": "S69MS0-jBUeT"
      }
    },
    {
      "cell_type": "code",
      "source": [
        "teks = \"Politeknik Negeri Semarang\"\n",
        "\n",
        "print(teks[0]) #P\n",
        "print(teks[-1]) #g\n",
        "print(teks[11:17])"
      ],
      "metadata": {
        "colab": {
          "base_uri": "https://localhost:8080/"
        },
        "id": "S15dmtsMmoJt",
        "outputId": "eecd4cb3-5def-4d4b-eddf-a5fd17d81728"
      },
      "execution_count": 6,
      "outputs": [
        {
          "output_type": "stream",
          "name": "stdout",
          "text": [
            "P\n",
            "g\n",
            "Negeri\n"
          ]
        }
      ]
    },
    {
      "cell_type": "markdown",
      "source": [
        "# Penugasan 02 - Manipulasi String"
      ],
      "metadata": {
        "id": "LlyCUZ2sCHHc"
      }
    },
    {
      "cell_type": "code",
      "source": [
        "a = input(\"Masukkan sebuah kalimat: \")\n",
        "print(a.upper())\n",
        "print(a.lower())\n",
        "print(len(a))"
      ],
      "metadata": {
        "colab": {
          "base_uri": "https://localhost:8080/"
        },
        "id": "0Zm7qmxYCGTW",
        "outputId": "cc53dd46-1ef7-4b3e-90a8-cb8c74ee76aa"
      },
      "execution_count": 4,
      "outputs": [
        {
          "output_type": "stream",
          "name": "stdout",
          "text": [
            "Masukkan sebuah kalimat: Aku Sang Penjelajah\n",
            "AKU SANG PENJELAJAH\n",
            "aku sang penjelajah\n",
            "19\n"
          ]
        }
      ]
    },
    {
      "cell_type": "markdown",
      "source": [
        "# Penugasan 03 - Validasi Username"
      ],
      "metadata": {
        "id": "X7nE4mAkDgfG"
      }
    },
    {
      "cell_type": "code",
      "source": [
        "username = input(\"Masukkan username: \")\n",
        "if username == _\n",
        " print(\"error\")\n",
        "else:\n",
        "  print(\"Username valid\")"
      ],
      "metadata": {
        "colab": {
          "base_uri": "https://localhost:8080/",
          "height": 106
        },
        "id": "AqvDOm2DDmR2",
        "outputId": "4d63b8b3-5d14-4104-e7fc-ae3c1b0d13dc"
      },
      "execution_count": 7,
      "outputs": [
        {
          "output_type": "error",
          "ename": "SyntaxError",
          "evalue": "expected ':' (ipython-input-3727835286.py, line 2)",
          "traceback": [
            "\u001b[0;36m  File \u001b[0;32m\"/tmp/ipython-input-3727835286.py\"\u001b[0;36m, line \u001b[0;32m2\u001b[0m\n\u001b[0;31m    if username == _\u001b[0m\n\u001b[0m                    ^\u001b[0m\n\u001b[0;31mSyntaxError\u001b[0m\u001b[0;31m:\u001b[0m expected ':'\n"
          ]
        }
      ]
    },
    {
      "cell_type": "markdown",
      "source": [
        "# Penugasan 04 - String Formatting dengan F-String"
      ],
      "metadata": {
        "id": "gD-SrPgNEFWb"
      }
    },
    {
      "cell_type": "code",
      "source": [
        "nama = input(\"Masukkan nama: \")\n",
        "umur = input(\"Masukkan umur: \")\n",
        "jurusan = input(\"Masukkan jurusan: \")\n",
        "\n",
        "print(f\"Nama : {nama}\\nUmur : {umur}\\nJurusan : {jurusan}\")"
      ],
      "metadata": {
        "colab": {
          "base_uri": "https://localhost:8080/"
        },
        "id": "D_ljEOaHEMSF",
        "outputId": "e47169e3-8a4c-4d40-ac00-5a51c5920e7c"
      },
      "execution_count": 9,
      "outputs": [
        {
          "output_type": "stream",
          "name": "stdout",
          "text": [
            "Masukkan nama: Andi\n",
            "Masukkan umur: 20\n",
            "Masukkan jurusan: TRK\n",
            "Nama : Andi\n",
            "Umur : 20\n",
            "Jurusan : TRK\n"
          ]
        }
      ]
    },
    {
      "cell_type": "markdown",
      "source": [
        "# Penugasan 05 - Operasi dalam F-String"
      ],
      "metadata": {
        "id": "gAPBckMFFFOu"
      }
    },
    {
      "cell_type": "code",
      "source": [
        "a = int(input(\"Masukkan angka pertama: \"))\n",
        "b = int(input(\"Masukkan angka kedua: \"))\n",
        "\n",
        "print(f\"Hasil penjumlahan {a} + {b} = {a+b}\")\n",
        "print(f\"Hasil perkalian {a} x {b} = {a*b}\")\n",
        "print(f\"Hasil pembagian {a} / {b} = {a/b:.3f}\")"
      ],
      "metadata": {
        "colab": {
          "base_uri": "https://localhost:8080/"
        },
        "id": "XtM-eklRFVTd",
        "outputId": "e162f36c-05bf-474a-c6d1-e7fd1dd2513c"
      },
      "execution_count": 15,
      "outputs": [
        {
          "output_type": "stream",
          "name": "stdout",
          "text": [
            "Masukkan angka pertama: 22\n",
            "Masukkan angka kedua: 7\n",
            "Hasil penjumlahan 22 + 7 = 29\n",
            "Hasil perkalian 22 x 7 = 154\n",
            "Hasil pembagian 22 / 7 = 3.143\n"
          ]
        }
      ]
    },
    {
      "cell_type": "markdown",
      "source": [
        "# Penugasan 06 - Casting Data"
      ],
      "metadata": {
        "id": "5B1bIc5eGndw"
      }
    },
    {
      "cell_type": "code",
      "source": [
        "angka = str(input(\"Masukkan sebuah angka: \"))\n"
      ],
      "metadata": {
        "id": "eRaY39s8GsKI"
      },
      "execution_count": null,
      "outputs": []
    },
    {
      "cell_type": "markdown",
      "source": [
        "# Penugasan 07 - Studi Kasus - Analisis Teks"
      ],
      "metadata": {
        "id": "XGtcL-ATHI5_"
      }
    },
    {
      "cell_type": "code",
      "source": [
        "teks = input(\"Masukkan sebuah kalimat: \")\n",
        "\n",
        "daftar_kata = teks.split(\" \")\n",
        "print(f\"Jumlah kata: {len(daftar_kata)}\")\n",
        "\n",
        "\n"
      ],
      "metadata": {
        "colab": {
          "base_uri": "https://localhost:8080/"
        },
        "id": "AhVXw5EkHOP8",
        "outputId": "6c32f874-db39-4fa8-b2a7-a39fc7ed3d3b"
      },
      "execution_count": 20,
      "outputs": [
        {
          "output_type": "stream",
          "name": "stdout",
          "text": [
            "Masukkan sebuah kalimat: totoro mahito chihiro\n",
            "Jumlah kata: 3\n"
          ]
        }
      ]
    }
  ]
}