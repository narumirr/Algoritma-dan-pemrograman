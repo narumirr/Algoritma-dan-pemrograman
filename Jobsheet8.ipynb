{
  "nbformat": 4,
  "nbformat_minor": 0,
  "metadata": {
    "colab": {
      "provenance": [],
      "authorship_tag": "ABX9TyPPSx3rTPrmNnmCOB5vQwLQ",
      "include_colab_link": true
    },
    "kernelspec": {
      "name": "python3",
      "display_name": "Python 3"
    },
    "language_info": {
      "name": "python"
    }
  },
  "cells": [
    {
      "cell_type": "markdown",
      "metadata": {
        "id": "view-in-github",
        "colab_type": "text"
      },
      "source": [
        "<a href=\"https://colab.research.google.com/github/narumirr/Algoritma-dan-pemrograman/blob/main/Jobsheet8.ipynb\" target=\"_parent\"><img src=\"https://colab.research.google.com/assets/colab-badge.svg\" alt=\"Open In Colab\"/></a>"
      ]
    },
    {
      "cell_type": "markdown",
      "source": [
        "# Praktikum 01 - Fungsi Dasar dengan def"
      ],
      "metadata": {
        "id": "ueTvayoilejp"
      }
    },
    {
      "cell_type": "code",
      "execution_count": 1,
      "metadata": {
        "colab": {
          "base_uri": "https://localhost:8080/"
        },
        "id": "PAW7j2ldlTnF",
        "outputId": "4d269d15-ba25-4884-9cec-cae168a78855"
      },
      "outputs": [
        {
          "output_type": "stream",
          "name": "stdout",
          "text": [
            "Halo, selamat datang di Politeknik Negeri Semarang!\n"
          ]
        }
      ],
      "source": [
        "def sapa():\n",
        "    print(\"Halo, selamat datang di Politeknik Negeri Semarang!\")\n",
        "\n",
        "sapa()"
      ]
    },
    {
      "cell_type": "markdown",
      "source": [
        "# Praktikum 02 - Fungsi dengan Parameter dan Return"
      ],
      "metadata": {
        "id": "BtXnBaOJmr8U"
      }
    },
    {
      "cell_type": "code",
      "source": [
        "def tambah(a, b):\n",
        "    return a + b\n",
        "\n",
        "hasil = tambah(7, 3)\n",
        "print(\"Hasil penjumlahan:\", hasil)"
      ],
      "metadata": {
        "colab": {
          "base_uri": "https://localhost:8080/"
        },
        "id": "ejrpLkRcmwoa",
        "outputId": "638f864c-cba1-4afd-a92a-5b4565a7ee92"
      },
      "execution_count": 2,
      "outputs": [
        {
          "output_type": "stream",
          "name": "stdout",
          "text": [
            "Hasil penjumlahan: 10\n"
          ]
        }
      ]
    },
    {
      "cell_type": "markdown",
      "source": [
        "# Praktikum 03 - Fungsi dengan Default Argument"
      ],
      "metadata": {
        "id": "0vbKw6ShnQ2H"
      }
    },
    {
      "cell_type": "code",
      "source": [],
      "metadata": {
        "id": "aZsPvJ6GnYjn"
      },
      "execution_count": null,
      "outputs": []
    },
    {
      "cell_type": "markdown",
      "source": [],
      "metadata": {
        "id": "h-f4OqyxnXyM"
      }
    }
  ]
}