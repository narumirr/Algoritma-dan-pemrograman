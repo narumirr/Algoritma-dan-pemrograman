{
  "nbformat": 4,
  "nbformat_minor": 0,
  "metadata": {
    "colab": {
      "provenance": [],
      "authorship_tag": "ABX9TyOaWCw1MZ1H3GGsnP+Tmcrc",
      "include_colab_link": true
    },
    "kernelspec": {
      "name": "python3",
      "display_name": "Python 3"
    },
    "language_info": {
      "name": "python"
    }
  },
  "cells": [
    {
      "cell_type": "markdown",
      "metadata": {
        "id": "view-in-github",
        "colab_type": "text"
      },
      "source": [
        "<a href=\"https://colab.research.google.com/github/narumirr/Algoritma-dan-pemrograman/blob/main/new.ipynb\" target=\"_parent\"><img src=\"https://colab.research.google.com/assets/colab-badge.svg\" alt=\"Open In Colab\"/></a>"
      ]
    },
    {
      "cell_type": "markdown",
      "source": [
        "# Praktikum 01 - Pengenalan Variabel dan Tipe Data"
      ],
      "metadata": {
        "id": "ZF6hpW9VOnOO"
      }
    },
    {
      "cell_type": "code",
      "execution_count": null,
      "metadata": {
        "colab": {
          "base_uri": "https://localhost:8080/"
        },
        "id": "nfFSyPI3_xaZ",
        "outputId": "e2838f27-6853-418b-a4ef-544b06fcb9bf"
      },
      "outputs": [
        {
          "output_type": "stream",
          "name": "stdout",
          "text": [
            "Umur: 20 -> <class 'int'>\n",
            "Tinggi: 170.5 -> <class 'float'>\n",
            "Nama: Andi -> <class 'str'>\n",
            "Status Mahasiswa: True -> <class 'bool'>\n",
            "Nilai: [80, 85, 90] -> <class 'list'>\n",
            "koordinat: (10, 20) -> <class 'tuple'>\n",
            "Data Mahasiswa: {'nama': 'Andi', 'umur': 20, 'Prodi': 'TRK'} -> <class 'dict'>\n",
            "Hobi: {'music', 'membaca', 'olahraga'} -> <class 'set'>\n"
          ]
        }
      ],
      "source": [
        "# Integer\n",
        "umur = 20\n",
        "print(\"Umur:\", umur, \"->\", type(umur))\n",
        "\n",
        "# Float\n",
        "tinggi = 170.5\n",
        "print(\"Tinggi:\", tinggi, \"->\", type(tinggi))\n",
        "\n",
        "# String\n",
        "nama = \"Andi\"\n",
        "print(\"Nama:\", nama, \"->\", type(nama))\n",
        "\n",
        "#Boolean\n",
        "is_mahasiswa = True\n",
        "print(\"Status Mahasiswa:\", is_mahasiswa, \"->\", type(is_mahasiswa))\n",
        "\n",
        "# List\n",
        "nilai = [80, 85, 90]\n",
        "print(\"Nilai:\", nilai, \"->\", type (nilai))\n",
        "\n",
        "# Tuple\n",
        "koordinat = (10, 20)\n",
        "print(\"koordinat:\", koordinat, \"->\", type(koordinat))\n",
        "\n",
        "# Dictionary\n",
        "mahasiswa = {\"nama\": \"Andi\", \"umur\": 20, \"Prodi\": \"TRK\"}\n",
        "print(\"Data Mahasiswa:\", mahasiswa, \"->\", type(mahasiswa))\n",
        "\n",
        "# Set\n",
        "hobi = {\"membaca\", \"olahraga\", \"music\"}\n",
        "print(\"Hobi:\", hobi, \"->\", type(hobi))"
      ]
    },
    {
      "cell_type": "markdown",
      "source": [
        "# Praktikum 02 - Input dan Output Dasar"
      ],
      "metadata": {
        "id": "TTcfXjCgOk8x"
      }
    },
    {
      "cell_type": "code",
      "source": [
        "# Input string\n",
        "nama = input(\"Masukkan nama Anda: \" )\n",
        "\n",
        "# Input Integer\n",
        "umur = int(input(\"Masukkan umur Anda: \"))\n",
        "\n",
        "# Input Float\n",
        "tinggi = float(input(\"Masukkan tinggi Badan (cm): \"))\n",
        "\n",
        "# Output Standar\n",
        "print(\"Halo,\", nama, \"umur Anda:\", umur, \"tahun\", \"tinggi:\", tinggi, \"cm\")\n",
        "\n",
        "# Output dengan format ()\n",
        "print(\"Halo {0}, umur Anda {1} tahun, tinggi {2} cm\".format(nama, umur, tinggi))\n",
        "\n",
        "# Output dengan f-string\n",
        "print(f\"Halo {nama}, umur Anda {umur} tahun, tinggi {tinggi} cm\")"
      ],
      "metadata": {
        "colab": {
          "base_uri": "https://localhost:8080/"
        },
        "id": "jp7VIuOeT9k3",
        "outputId": "19fc1676-ab29-4759-bdfe-b426506a94ab"
      },
      "execution_count": null,
      "outputs": [
        {
          "output_type": "stream",
          "name": "stdout",
          "text": [
            "Masukkan nama Anda: amir\n",
            "Masukkan umur Anda: 19\n",
            "Masukkan tinggi Badan (cm): 170.8\n",
            "Halo, amir umur Anda: 19 tahun tinggi: 170.8 cm\n",
            "Halo amir, umur Anda 19 tahun, tinggi 170.8 cm\n",
            "Halo amir, umur Anda 19 tahun, tinggi 170.8 cm\n"
          ]
        }
      ]
    },
    {
      "cell_type": "markdown",
      "source": [
        "# Praktikum 03 - Operator Aritmatika"
      ],
      "metadata": {
        "id": "jlZyokh5Y6T9"
      }
    },
    {
      "cell_type": "code",
      "source": [
        "a = 15\n",
        "b = 4\n",
        "\n",
        "print(\"a + b =\", a + b)\n",
        "print(\"a - b =\", a - b)\n",
        "print(\"a * b =\", a * b)\n",
        "print(\"a / b =\", a / b)\n",
        "print(\"a // b =\", a // b)\n",
        "print(\"a % b =\", a % b)\n",
        "print(\"a ** b=\", a ** b)\n",
        "\n",
        "# Hasil program menunjukkan bahwa python mampu melakukan perhitungan dasar dengan operator yang sederhana dan intuitif"
      ],
      "metadata": {
        "colab": {
          "base_uri": "https://localhost:8080/"
        },
        "id": "U1wEceKodHq-",
        "outputId": "2e2d1bea-09fc-48aa-d011-ed2e1c30a74f"
      },
      "execution_count": null,
      "outputs": [
        {
          "output_type": "stream",
          "name": "stdout",
          "text": [
            "a + b = 19\n",
            "a - b = 11\n",
            "a * b = 60\n",
            "a / b = 3.75\n",
            "a // b = 3\n",
            "a % b = 3\n",
            "a ** b= 50625\n"
          ]
        }
      ]
    },
    {
      "cell_type": "markdown",
      "source": [
        "# Praktikum 04 - Operator Relational"
      ],
      "metadata": {
        "id": "upOeY96JknaT"
      }
    },
    {
      "cell_type": "code",
      "source": [
        "x = 10\n",
        "y = 20\n",
        "\n",
        "print(\"x == y :\", x == y)\n",
        "print(\"x != y :\", x != y)\n",
        "print(\"x < y :\", x < y)\n",
        "print(\"x > y :\", x > y)\n",
        "print(\"x <= y :\", x <= y)\n",
        "print(\"x >= y :\", x >= y)\n",
        "# Dalam kehidupan nyata, operator relasional bisa dipakai untuk mengecek apakah nilai ujian >= 60, atau apakah kehadiran mahasiswa memenuhi batas minimal.\n"
      ],
      "metadata": {
        "colab": {
          "base_uri": "https://localhost:8080/"
        },
        "id": "vnE9B5xwkvc4",
        "outputId": "28a554bb-8fcc-4562-cf58-819a06221828"
      },
      "execution_count": null,
      "outputs": [
        {
          "output_type": "stream",
          "name": "stdout",
          "text": [
            "x == y : False\n",
            "x != y : True\n",
            "x < y : True\n",
            "x > y : False\n",
            "x <= y : True\n",
            "x >= y : False\n"
          ]
        }
      ]
    },
    {
      "cell_type": "markdown",
      "source": [
        "# Praktikum 05 - Operator Logika dengan Studi Kasus Nyata"
      ],
      "metadata": {
        "id": "Wpn1Jiopk26S"
      }
    },
    {
      "cell_type": "code",
      "source": [
        "# Operator logika dasar\n",
        "a = True\n",
        "b = False\n",
        "\n",
        "print(\"a and b =\", a and b)\n",
        "print(\"a or b =\", a or b)\n",
        "print(\"not a =\", not a)\n",
        "\n",
        "# Studi kasus nyata: kelulusan\n",
        "nilai = int(input(\"Masukkan nilai ujian: \"))\n",
        "hadir = int(input(\"Masukkan jumlah kehadiran: \"))\n",
        "\n",
        "lulus_nilai = nilai >= 60\n",
        "lulus_hadir = hadir >= 12 # dari 16 pertemuan\n",
        "\n",
        "if lulus_nilai and lulus_hadir:\n",
        "    print(\"Status: LULUS\")\n",
        "else:\n",
        "    print(\"Status: TIDAK LULUS\")\n",
        "\n"
      ],
      "metadata": {
        "id": "1rwuMiYjmYmw",
        "colab": {
          "base_uri": "https://localhost:8080/"
        },
        "outputId": "b076b913-f0c2-4cbf-90ba-71b75fad0012"
      },
      "execution_count": null,
      "outputs": [
        {
          "output_type": "stream",
          "name": "stdout",
          "text": [
            "a and b = False\n",
            "a or b = True\n",
            "not a = False\n",
            "Masukkan nilai ujian: 70\n",
            "Masukkan jumlah kehadiran: 14\n",
            "Status: LULUS\n"
          ]
        }
      ]
    },
    {
      "cell_type": "markdown",
      "source": [
        "# Praktikum 06 - Program Kasir Sederhana"
      ],
      "metadata": {
        "id": "4OKvCZQvAYYC"
      }
    },
    {
      "cell_type": "code",
      "source": [
        "barang = input(\"Masukkan nama barang: \")\n",
        "harga = float(input(\"Masukkan harga barang: \"))\n",
        "jumlah = int(input(\"Masukkan jumlah barang: \"))\n",
        "\n",
        "total = harga * jumlah\n",
        "\n",
        "# Aturan Diskon\n",
        "if total >= 500000:\n",
        "    diskon = 0.2\n",
        "elif total >= 250000:\n",
        "    diskon = 0.1\n",
        "else:\n",
        "    diskon = 0\n",
        "\n",
        "potongan = total * diskon\n",
        "bayar = total - potongan\n",
        "\n",
        "print(\"\\n======== Struk Belanja ==========\")\n",
        "print(f\"Barang : {barang}\")\n",
        "print(f\"jumlah : {jumlah}\")\n",
        "print(f\"total  : Rp {total}\")\n",
        "print(f\"Diskon : {diskon * 100}%\")\n",
        "print(f\"Bayar  : Rp {bayar}\")\n"
      ],
      "metadata": {
        "colab": {
          "base_uri": "https://localhost:8080/"
        },
        "id": "5GNahtORAgKd",
        "outputId": "3c75c782-659e-4fcd-bc4d-e0f663a13398"
      },
      "execution_count": null,
      "outputs": [
        {
          "output_type": "stream",
          "name": "stdout",
          "text": [
            "Masukkan nama barang: Gorpcore Eiger\n",
            "Masukkan harga barang: 253000\n",
            "Masukkan jumlah barang: 3\n",
            "\n",
            "======== Struk Belanja ==========\n",
            "Barang : Gorpcore Eiger\n",
            "jumlah : 3\n",
            "total  : Rp 759000.0\n",
            "Diskon : 20.0%\n",
            "Bayar  : Rp 607200.0\n"
          ]
        }
      ]
    },
    {
      "cell_type": "markdown",
      "source": [
        "# Identitas Mahasiswa"
      ],
      "metadata": {
        "id": "HYk7l3spRaX6"
      }
    },
    {
      "cell_type": "code",
      "source": [
        "# String\n",
        "nama = \"Andrian Amirudin\"\n",
        "\n",
        "# integer\n",
        "umur = 19\n",
        "\n",
        "# float\n",
        "tinggi = 170.4\n",
        "\n",
        "# bool\n",
        "status_aktif = True\n",
        "\n",
        "# print f-string\n",
        "print(f\"Nama :{nama}\")\n",
        "print(f\"Umur :{umur}\")\n",
        "print(f\"Tinggi :{tinggi}\")\n",
        "print(f\"Status :{status_aktif}\")"
      ],
      "metadata": {
        "colab": {
          "base_uri": "https://localhost:8080/"
        },
        "id": "bgMQH8RDRew9",
        "outputId": "3ecf1d2c-3cdc-4bf0-dc21-5723f1a3b2df"
      },
      "execution_count": null,
      "outputs": [
        {
          "output_type": "stream",
          "name": "stdout",
          "text": [
            "Nama :Andrian Amirudin\n",
            "Umur :19\n",
            "Tinggi :170.4\n",
            "Status :True\n"
          ]
        }
      ]
    },
    {
      "cell_type": "markdown",
      "source": [
        "# Operasi Aritmatika"
      ],
      "metadata": {
        "id": "HBocJyK4Uk9A"
      }
    },
    {
      "cell_type": "code",
      "source": [
        "x = int(input(\"Masukkan Bilangan Pertama = \"))\n",
        "y = int(input(\"Masukkan Bilangan Kedua = \"))\n",
        "\n",
        "print(f\"Penjumlahan {x} dan {y} = {x + y}\")\n",
        "print(f\"pengurangan {x} dan {y} = {x - y}\")\n",
        "print(f\"Perkalian {x} dan {y} = {x * y}\")\n",
        "print(f\"Pembagian {x} dan {y} = {x / y}\")\n",
        "print(f\"Pembagian Bulat {x} dan {y} = {x // y}\")\n",
        "print(f\"Sisa Bagi {x} dan {y} = {x % y}\")\n",
        "print(f\"Pemangkatan {x} dan {y} = {x ** y}\")\n"
      ],
      "metadata": {
        "colab": {
          "base_uri": "https://localhost:8080/"
        },
        "id": "UBohBNLUV5lb",
        "outputId": "7090f526-9145-4e74-f730-5e3eb41368d9"
      },
      "execution_count": null,
      "outputs": [
        {
          "output_type": "stream",
          "name": "stdout",
          "text": [
            "Masukkan Bilangan Pertama = 40\n",
            "Masukkan Bilangan Kedua = 6\n",
            "Penjumlahan 40 dan 6 = 46\n",
            "pengurangan 40 dan 6 = 34\n",
            "Perkalian 40 dan 6 = 240\n",
            "Pembagian 40 dan 6 = 6.666666666666667\n",
            "Pembagian Bulat 40 dan 6 = 6\n",
            "Sisa Bagi 40 dan 6 = 4\n",
            "Pemangkatan 40 dan 6 = 4096000000\n"
          ]
        }
      ]
    },
    {
      "cell_type": "markdown",
      "source": [
        "# Konversi Nilai"
      ],
      "metadata": {
        "id": "g74P9LcMYe1N"
      }
    },
    {
      "cell_type": "code",
      "source": [
        "a = float(input(\"Masukkan Angka Desimal = \"))\n",
        "print(int(a))\n",
        "print(str(a))\n",
        "print(round(a))\n"
      ],
      "metadata": {
        "colab": {
          "base_uri": "https://localhost:8080/"
        },
        "id": "BPlFFtQmYiE6",
        "outputId": "b88ebb35-2fb1-4e52-c0d4-b08e3e1378eb"
      },
      "execution_count": null,
      "outputs": [
        {
          "output_type": "stream",
          "name": "stdout",
          "text": [
            "Masukkan Angka Desimal = 50.134\n",
            "50\n",
            "50.134\n",
            "50\n"
          ]
        }
      ]
    },
    {
      "cell_type": "markdown",
      "source": [
        "# Operator Relational"
      ],
      "metadata": {
        "id": "4l6T9CEWaq42"
      }
    },
    {
      "cell_type": "code",
      "source": [
        "a = int(input(\"Masukkan Bilangan Pertama = \"))\n",
        "b = int(input(\"Masukkan Bilangan Kedua = \"))\n",
        "\n",
        "print(f\"{a} == {b} = {a == b}\")\n",
        "print(f\"{a} != {b} = {a != b}\")\n",
        "print(f\"{a} > {b} = {a > b}\")\n",
        "print(f\"{a} < {b} = {a < b}\")\n",
        "print(f\"{a} <= {b} = {a <= b}\")\n",
        "print(f\"{a} >= {b} = {a >= b}\")\n"
      ],
      "metadata": {
        "id": "bHc1VFe7atIu"
      },
      "execution_count": null,
      "outputs": []
    }
  ]
}