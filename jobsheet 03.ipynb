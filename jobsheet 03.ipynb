{
  "nbformat": 4,
  "nbformat_minor": 0,
  "metadata": {
    "colab": {
      "provenance": [],
      "authorship_tag": "ABX9TyM9O1kbyytpTboYDv7VL+Bp",
      "include_colab_link": true
    },
    "kernelspec": {
      "name": "python3",
      "display_name": "Python 3"
    },
    "language_info": {
      "name": "python"
    }
  },
  "cells": [
    {
      "cell_type": "markdown",
      "metadata": {
        "id": "view-in-github",
        "colab_type": "text"
      },
      "source": [
        "<a href=\"https://colab.research.google.com/github/narumirr/Algoritma-dan-pemrograman/blob/main/jobsheet%2003.ipynb\" target=\"_parent\"><img src=\"https://colab.research.google.com/assets/colab-badge.svg\" alt=\"Open In Colab\"/></a>"
      ]
    },
    {
      "cell_type": "markdown",
      "source": [
        "# **PRAKTIKUM**"
      ],
      "metadata": {
        "id": "rZP3DR8y_847"
      }
    },
    {
      "cell_type": "markdown",
      "source": [
        "# Praktikum 01 - If Sederhana"
      ],
      "metadata": {
        "id": "d1i_J-IIiJFx"
      }
    },
    {
      "cell_type": "code",
      "execution_count": null,
      "metadata": {
        "colab": {
          "base_uri": "https://localhost:8080/"
        },
        "id": "cHWBjcscfS9K",
        "outputId": "54481648-d890-43f5-af4d-2f79f5e8cec5"
      },
      "outputs": [
        {
          "output_type": "stream",
          "name": "stdout",
          "text": [
            "Masukkan nilai ujian: 70\n",
            "Anda LULUS\n"
          ]
        }
      ],
      "source": [
        "nilai = int(input(\"Masukkan nilai ujian: \"))\n",
        "if nilai >= 60:\n",
        "  print(\"Anda LULUS\")\n"
      ]
    },
    {
      "cell_type": "markdown",
      "source": [
        "# Praktikum 02 - If-Else"
      ],
      "metadata": {
        "id": "x-9PHkX0i0JJ"
      }
    },
    {
      "cell_type": "code",
      "source": [
        "nilai = int(input(\"Masukkan nilai ujian: \"))\n",
        "if nilai >= 60:\n",
        "  print(\"Anda LULUS\")\n",
        "else:\n",
        "  print(\"Anda TIDAK LULUS\")"
      ],
      "metadata": {
        "colab": {
          "base_uri": "https://localhost:8080/"
        },
        "id": "wwa5793Iiy1c",
        "outputId": "982e13e8-e818-411c-8161-7094d4ba6961"
      },
      "execution_count": null,
      "outputs": [
        {
          "output_type": "stream",
          "name": "stdout",
          "text": [
            "Masukkan nilai ujian: 50\n",
            "Anda TIDAK LULUS\n"
          ]
        }
      ]
    },
    {
      "cell_type": "markdown",
      "source": [
        "# Praktikum 03 - If-Elif-Else"
      ],
      "metadata": {
        "id": "z2RbsfvRiwpl"
      }
    },
    {
      "cell_type": "code",
      "source": [
        "nilai = int(input(\"Masukkan nilai ujian: \"))\n",
        "\n",
        "if nilai >= 85:\n",
        "  grade = \"A\"\n",
        "elif nilai >= 70:\n",
        "  grade = \"B\"\n",
        "elif nilai >= 55:\n",
        "  grade = \"C\"\n",
        "elif nilai >= 40:\n",
        "  grade = \"D\"\n",
        "else:\n",
        "  grade = \"E\"\n",
        "\n",
        "print(f\"Nilai Anda {nilai}, maka grade Anda = {grade}\")"
      ],
      "metadata": {
        "colab": {
          "base_uri": "https://localhost:8080/"
        },
        "id": "sjeDrOLCjZnG",
        "outputId": "489bccfe-f88c-45c7-c456-9d91cd10a53d"
      },
      "execution_count": null,
      "outputs": [
        {
          "output_type": "stream",
          "name": "stdout",
          "text": [
            "Masukkan nilai ujian: 78\n",
            "Nilai Anda 78, maka grade Anda = B\n"
          ]
        }
      ]
    },
    {
      "cell_type": "markdown",
      "source": [
        "# Praktikum 04 - Nested If"
      ],
      "metadata": {
        "id": "2taBxnA_kO2W"
      }
    },
    {
      "cell_type": "code",
      "source": [
        "ipk = float(input(\"Masukkan IPK: \"))\n",
        "sks = int(input(\"Masukkan jumlah SKS: \"))\n",
        "\n",
        "if ipk >= 3.0:\n",
        "  if sks >= 18:\n",
        "    print(\"Anda Layak mendapat beasiswa\")\n",
        "  else:\n",
        "    print(\"IPK memenuhi, tapi SKS kurang\")\n",
        "else:\n",
        "  print(\"Anda Tidak layak mendapat beasiswa\")\n",
        "\n"
      ],
      "metadata": {
        "colab": {
          "base_uri": "https://localhost:8080/"
        },
        "id": "BfADCmmbkToj",
        "outputId": "6137be05-ca98-47ef-c05b-ad3de29f6025"
      },
      "execution_count": null,
      "outputs": [
        {
          "output_type": "stream",
          "name": "stdout",
          "text": [
            "Masukkan IPK: 2.8\n",
            "Masukkan jumlah SKS: 20\n",
            "Anda Tidak layak mendapat beasiswa\n"
          ]
        }
      ]
    },
    {
      "cell_type": "markdown",
      "source": [
        "# Praktikum 05 - Match-Case"
      ],
      "metadata": {
        "id": "f1kfXxymmVAM"
      }
    },
    {
      "cell_type": "code",
      "source": [
        "menu = int(input(\"Pilih Menu (1-3): \"))\n",
        "\n",
        "match menu:\n",
        "  case 1 :\n",
        "    print(\"Anda memilih Nasi Goreng\")\n",
        "  case 2 :\n",
        "    print(\"Anda memilih Mie Ayam\")\n",
        "  case 3:\n",
        "    print(\"Anda memilih Soto Ayam\")\n",
        "  case _:\n",
        "    print(\"Menu tidak tersedia\")\n"
      ],
      "metadata": {
        "colab": {
          "base_uri": "https://localhost:8080/"
        },
        "id": "y02AzfeamHCC",
        "outputId": "ec696050-04a4-450b-b406-9273f42f25d0"
      },
      "execution_count": null,
      "outputs": [
        {
          "output_type": "stream",
          "name": "stdout",
          "text": [
            "Pilih Menu (1-3): 9\n",
            "Menu tidak tersedia\n"
          ]
        }
      ]
    },
    {
      "cell_type": "markdown",
      "source": [
        "# Praktikum 06 - Studi Kasus: Program Kasir"
      ],
      "metadata": {
        "id": "_1jmyDYfnr-9"
      }
    },
    {
      "cell_type": "code",
      "source": [
        "barang = input(\"Masukkan nama barang: \")\n",
        "harga = float(input(\"Masukkan harga barang:\"))\n",
        "jumlah = int(input(\"Masukkan jumlah barang: \"))\n",
        "\n",
        "total = harga * jumlah\n",
        "\n",
        "if total >= 500000:\n",
        "            diskon = 0.2\n",
        "elif total >= 250000:\n",
        "          diskon = 0.1\n",
        "else:\n",
        "          diskon = 0\n",
        "\n",
        "bayar = total - (total * diskon)\n",
        "print(\"\\n====== Struk Belanja =======\")\n",
        "print(f\"Barang : {barang}\")\n",
        "print(f\"Jumlah : {jumlah}\")\n",
        "print(f\"Total : Rp {total}\")\n",
        "print(f\"Diskon : {diskon * 100}%\")\n",
        "print(f\"Bayar : Rp {bayar}\")"
      ],
      "metadata": {
        "colab": {
          "base_uri": "https://localhost:8080/"
        },
        "id": "YHstvtUImTD9",
        "outputId": "de8d13c6-ba43-44f7-e352-f8b2c806d997"
      },
      "execution_count": null,
      "outputs": [
        {
          "output_type": "stream",
          "name": "stdout",
          "text": [
            "Masukkan nama barang: Pulpen\n",
            "Masukkan harga barang:5000\n",
            "Masukkan jumlah barang: 10\n",
            "\n",
            "====== Struk Belanja =======\n",
            "Barang : Pulpen\n",
            "Jumlah : 10\n",
            "Total : Rp 50000.0\n",
            "Diskon : 0%\n",
            "Bayar : Rp 50000.0\n"
          ]
        }
      ]
    },
    {
      "cell_type": "markdown",
      "source": [
        "# **PENUGASAN**"
      ],
      "metadata": {
        "id": "YkL5vFSzLr5I"
      }
    },
    {
      "cell_type": "markdown",
      "source": [
        "# Penugasan 01 - Cek Bilangan Positif/Negatif/Nol"
      ],
      "metadata": {
        "id": "MOS3_7FUL0EC"
      }
    },
    {
      "cell_type": "code",
      "source": [
        "# Program Membaca Bilangan Bulat\n",
        "\n",
        "a = int(input(\"Masukkan bilangan bulat: \"))\n",
        "\n",
        "if a >= 1:\n",
        "  print(\"Bilangan tersebut termasuk Bilangan Bulat Positif\")\n",
        "elif a == 0:\n",
        "  print(\"Bilangan tersebut termasuk Bilangan Bulat Nol\")\n",
        "else:\n",
        "  print(\"Bilangan tersebut termasuk Bilangan Bulat Negatif\")\n",
        "\n"
      ],
      "metadata": {
        "colab": {
          "base_uri": "https://localhost:8080/"
        },
        "id": "M4AqrlmFLuRJ",
        "outputId": "1dc84da1-08cf-4808-c887-072729435744"
      },
      "execution_count": 5,
      "outputs": [
        {
          "output_type": "stream",
          "name": "stdout",
          "text": [
            "Masukkan bilangan bulat: -80\n",
            "Bilangan tersebut termasuk Bilangan Bulat Negatif\n"
          ]
        }
      ]
    },
    {
      "cell_type": "markdown",
      "source": [
        "# Penugasan 02 - Menentukan Kategori Usia"
      ],
      "metadata": {
        "id": "MRRMkTtvMvmq"
      }
    },
    {
      "cell_type": "code",
      "source": [
        "umur = int(input(\"Masukkan umur: \"))\n",
        "\n",
        "if umur >= 60:\n",
        "    print(\"Kategori Lansia\")\n",
        "elif umur >= 18:\n",
        "    print(\"Kategori Dewasa\")\n",
        "elif umur >= 12:\n",
        "    print(\"Kategori Remaja\")\n",
        "elif umur >= 5:\n",
        "    print(\"Kategori Anak-anak\")\n",
        "else:\n",
        "    print(\"Kategori Balita\")"
      ],
      "metadata": {
        "colab": {
          "base_uri": "https://localhost:8080/"
        },
        "id": "pSVKuHLbtCBf",
        "outputId": "6c1ab0c5-62c5-4acb-fb68-f7b3d6ab64e6"
      },
      "execution_count": 7,
      "outputs": [
        {
          "output_type": "stream",
          "name": "stdout",
          "text": [
            "Masukkan umur: 19\n",
            "Kategori Dewasa\n"
          ]
        }
      ]
    },
    {
      "cell_type": "markdown",
      "source": [
        "# Penugasan 03 - Hitung Tarif Parkir\n"
      ],
      "metadata": {
        "id": "_GwoThXquinw"
      }
    },
    {
      "cell_type": "code",
      "source": [
        "waktu = int(input(\"Masukkan waktu parkir (jam): \"))\n",
        "\n",
        "if waktu <= 2:\n",
        "    tarif = 5000\n",
        "elif waktu > 2:\n",
        "    tarif = 5000 + (waktu - 2) * 2000\n",
        "    if tarif > 20000:\n",
        "      tarif = 20000\n",
        "else:\n",
        "    tarif = 0\n",
        "\n",
        "print(\"====== Tarif Parkir ======\")\n",
        "print(f\"Waktu Parkir: {waktu} jam\")\n",
        "print(f\"Total Tarif : Rp {tarif}\")"
      ],
      "metadata": {
        "colab": {
          "base_uri": "https://localhost:8080/"
        },
        "id": "RAtQ_X2DutnR",
        "outputId": "1f5e9119-ea97-4dc5-e9a3-09094deda782"
      },
      "execution_count": 22,
      "outputs": [
        {
          "output_type": "stream",
          "name": "stdout",
          "text": [
            "Masukkan waktu parkir (jam): 9\n",
            "====== Tarif Parkir ======\n",
            "Waktu Parkir: 9 jam\n",
            "Total Tarif : Rp 19000\n"
          ]
        }
      ]
    },
    {
      "cell_type": "markdown",
      "source": [
        "# Penugasan 04 - Cek Login Sederhana"
      ],
      "metadata": {
        "id": "yrWePe8c1kwP"
      }
    },
    {
      "cell_type": "code",
      "source": [
        "username = input(\"Masukkan Username: \")\n",
        "password = input(\"Masukkan Password: \")\n",
        "\n",
        "if username == \"admin\" and password == \"1234\":\n",
        "    print(\"Login Berhasil\")\n",
        "else:\n",
        "    print(\"Login Gagal\")"
      ],
      "metadata": {
        "id": "HD_G-VC2vOwD",
        "outputId": "440ba9db-006a-4979-f90a-1fa750de35dd",
        "colab": {
          "base_uri": "https://localhost:8080/"
        }
      },
      "execution_count": 11,
      "outputs": [
        {
          "output_type": "stream",
          "name": "stdout",
          "text": [
            "Masukkan Username: admin\n",
            "Masukkan Password: 1234\n",
            "Login Berhasil\n"
          ]
        }
      ]
    },
    {
      "cell_type": "markdown",
      "source": [
        "# Penugasan 05 - One-Liner If (Cek Genap/Ganjil)"
      ],
      "metadata": {
        "id": "nRUZ2Ikp25N_"
      }
    },
    {
      "cell_type": "code",
      "source": [
        "a = int(input(\"Masukkan bilangan: \"))\n",
        "\n",
        "hasil = \"Genap\" if a % 2 == 0 else \"Ganjil\"\n",
        "print(f\"Bilangan {a} termasuk bilangan {hasil}\")"
      ],
      "metadata": {
        "id": "KVdRzTBY3FyE",
        "outputId": "57f182e5-afab-4c9f-d2cb-700e74d51eb7",
        "colab": {
          "base_uri": "https://localhost:8080/"
        }
      },
      "execution_count": 13,
      "outputs": [
        {
          "output_type": "stream",
          "name": "stdout",
          "text": [
            "Masukkan bilangan: 7\n",
            "Bilangan 7 termasuk bilangan Ganjil\n"
          ]
        }
      ]
    },
    {
      "cell_type": "markdown",
      "source": [
        "# Penugasan 06 - Menu Restoran dengan Match-Case"
      ],
      "metadata": {
        "id": "Bn2uxqnB5tQ2"
      }
    },
    {
      "cell_type": "code",
      "source": [
        "menu = int(input(\"Pilih Menu (1-3): \"))\n",
        "\n",
        "match menu:\n",
        "  case 1:\n",
        "    print(\"Anda memilih Nasi Goreng\")\n",
        "  case 2:\n",
        "    print(\"Anda memilih Mie Ayam\")\n",
        "  case 3:\n",
        "    print(\"Anda memilih Soto Ayam\")\n",
        "  case _:\n",
        "    print(\"Menu tidak tersedia\")"
      ],
      "metadata": {
        "id": "lNVM87_N5BG4",
        "outputId": "7d46ec46-0595-4f6a-96ea-71f0ad987eda",
        "colab": {
          "base_uri": "https://localhost:8080/"
        }
      },
      "execution_count": 17,
      "outputs": [
        {
          "output_type": "stream",
          "name": "stdout",
          "text": [
            "Pilih Menu (1-3): 4\n",
            "Menu tidak tersedia\n"
          ]
        }
      ]
    },
    {
      "cell_type": "markdown",
      "source": [
        "# Penugasan 07 - Studi Kasus Nyata - Program Penentuan Diskon"
      ],
      "metadata": {
        "id": "l_cJ1z8X66Qk"
      }
    },
    {
      "cell_type": "code",
      "source": [
        "barang = input(\"Masukkan nama barang: \")\n",
        "harga = float(input(\"Masukkan harga barang: \"))\n",
        "jumlah = int(input(\"Masukkan jumlah barang: \"))\n",
        "\n",
        "\n",
        "total = jumlah * harga\n",
        "if total >= 500000:\n",
        "    diskon = 0.2\n",
        "elif total >= 250000:\n",
        "    diskon = 0.1\n",
        "else:\n",
        "    diskon = 0\n",
        "bayar = total - (total*diskon)\n",
        "\n",
        "print(\"\\n====== Struk Belanja ======\")\n",
        "print(f\"Barang  : {barang}\")\n",
        "print(f\"Harga   : {harga}\")\n",
        "print(f\"Jumlah  : {jumlah}\")\n",
        "print(f\"Total   : Rp {total}\")\n",
        "print(f\"Diskon  : {diskon*100}%\")\n",
        "print(f\"Jumlah Bayar: {bayar}\")\n"
      ],
      "metadata": {
        "id": "tJLZFclV7DtG",
        "outputId": "0eacb5cd-f9b2-47fc-d49d-e7e9dd553b3f",
        "colab": {
          "base_uri": "https://localhost:8080/"
        }
      },
      "execution_count": 23,
      "outputs": [
        {
          "output_type": "stream",
          "name": "stdout",
          "text": [
            "Masukkan nama barang: topi\n",
            "Masukkan harga barang: 250000\n",
            "Masukkan jumlah barang: 1\n",
            "\n",
            "====== Struk Belanja ======\n",
            "Barang  : topi\n",
            "Harga   : 250000.0\n",
            "Jumlah  : 1\n",
            "Total   : Rp 250000.0\n",
            "Diskon  : 10.0%\n",
            "Jumlah Bayar: 225000.0\n"
          ]
        }
      ]
    }
  ]
}