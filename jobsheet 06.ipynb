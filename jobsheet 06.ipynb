{
  "nbformat": 4,
  "nbformat_minor": 0,
  "metadata": {
    "colab": {
      "provenance": [],
      "authorship_tag": "ABX9TyO7nnVMx6cpO6Jh0jctIbpr",
      "include_colab_link": true
    },
    "kernelspec": {
      "name": "python3",
      "display_name": "Python 3"
    },
    "language_info": {
      "name": "python"
    }
  },
  "cells": [
    {
      "cell_type": "markdown",
      "metadata": {
        "id": "view-in-github",
        "colab_type": "text"
      },
      "source": [
        "<a href=\"https://colab.research.google.com/github/narumirr/Algoritma-dan-pemrograman/blob/main/jobsheet%2006.ipynb\" target=\"_parent\"><img src=\"https://colab.research.google.com/assets/colab-badge.svg\" alt=\"Open In Colab\"/></a>"
      ]
    },
    {
      "cell_type": "markdown",
      "source": [
        "# Praktikum 01 - Membuat dan Mengakses List ID"
      ],
      "metadata": {
        "id": "qmBcu3ztKl54"
      }
    },
    {
      "cell_type": "code",
      "execution_count": null,
      "metadata": {
        "colab": {
          "base_uri": "https://localhost:8080/"
        },
        "id": "caDufzJ8Kk25",
        "outputId": "658708f7-07c3-4fd1-f382-25208f917f5f"
      },
      "outputs": [
        {
          "output_type": "stream",
          "name": "stdout",
          "text": [
            "Andi\n",
            "Budi\n",
            "Cici\n"
          ]
        }
      ],
      "source": [
        "mahasiswa = [\"Andi\", \"Budi\", \"Cici\"]\n",
        "print(mahasiswa[0])    #Andi\n",
        "print(mahasiswa[1])    #Budi\n",
        "print(mahasiswa[-1])   #Cici"
      ]
    },
    {
      "cell_type": "markdown",
      "source": [
        "# Praktikum 02 - Update dan Operasi Dasar List"
      ],
      "metadata": {
        "id": "8MmM-ZfMMYYv"
      }
    },
    {
      "cell_type": "code",
      "source": [
        "nilai = [85, 90, 78]\n",
        "nilai[1] = 95\n",
        "nilai.append(100)\n",
        "nilai.remove(78)\n",
        "print(nilai)"
      ],
      "metadata": {
        "colab": {
          "base_uri": "https://localhost:8080/"
        },
        "id": "JmrYsqAfMc5t",
        "outputId": "7a606446-0625-4ed5-dd74-873e0b1ac25f"
      },
      "execution_count": null,
      "outputs": [
        {
          "output_type": "stream",
          "name": "stdout",
          "text": [
            "[85, 95, 100]\n"
          ]
        }
      ]
    },
    {
      "cell_type": "markdown",
      "source": [
        "# Praktikum 03 - Slicing List"
      ],
      "metadata": {
        "id": "MUtUtnVYOZIV"
      }
    },
    {
      "cell_type": "code",
      "source": [
        "nilai = [85, 90, 78, 92, 88]\n",
        "print(nilai[0:3])   # [85, 90, 78]\n",
        "print(nilai[2:])    # [78, 92, 88]\n",
        "print(nilai[:3])    # [85, 90, 78]"
      ],
      "metadata": {
        "colab": {
          "base_uri": "https://localhost:8080/"
        },
        "id": "ly42fvagOdN7",
        "outputId": "78f4dbcb-ea30-4425-f4b5-3ab4290053ef"
      },
      "execution_count": null,
      "outputs": [
        {
          "output_type": "stream",
          "name": "stdout",
          "text": [
            "[85, 90, 78]\n",
            "[78, 92, 88]\n",
            "[85, 90, 78]\n"
          ]
        }
      ]
    },
    {
      "cell_type": "markdown",
      "source": [
        "# Praktikum 04 - List 2D (Matriks)"
      ],
      "metadata": {
        "id": "WzIYZBHpP70a"
      }
    },
    {
      "cell_type": "code",
      "source": [
        "matriks = [\n",
        "    [1, 2, 3],\n",
        "    [4, 5, 6],\n",
        "    [7, 8, 9]\n",
        "]\n",
        "\n",
        "print(matriks[0] [0])   #1\n",
        "print(matriks[1] [2])   #6\n",
        "print(matriks[2])       #[7, 8, 9]"
      ],
      "metadata": {
        "colab": {
          "base_uri": "https://localhost:8080/"
        },
        "id": "zL7qsWTaPjRL",
        "outputId": "acdf019b-372b-4141-c53e-247190d437b8"
      },
      "execution_count": null,
      "outputs": [
        {
          "output_type": "stream",
          "name": "stdout",
          "text": [
            "1\n",
            "6\n",
            "[7, 8, 9]\n"
          ]
        }
      ]
    },
    {
      "cell_type": "markdown",
      "source": [
        "# Praktikum 05 - Operasi pada List 2D"
      ],
      "metadata": {
        "id": "GCJy5ESmRP7x"
      }
    },
    {
      "cell_type": "code",
      "source": [
        "A = [[1, 2, 3], [4, 5, 6]]\n",
        "B = [[7, 8, 9], [10, 11, 12]]\n",
        "C = []\n",
        "\n",
        "for i in range(len(A)):\n",
        "    baris = []\n",
        "    for j in range(len(A[0])):\n",
        "        baris.append(A[i] [j] + B[i] [j])\n",
        "    C.append(baris)\n",
        "\n",
        "print(C)\n",
        "print(i)"
      ],
      "metadata": {
        "colab": {
          "base_uri": "https://localhost:8080/"
        },
        "id": "U_T3Z6MxRVXI",
        "outputId": "40edaee9-6329-4c4f-cace-89ddaa537239"
      },
      "execution_count": null,
      "outputs": [
        {
          "output_type": "stream",
          "name": "stdout",
          "text": [
            "[[8, 10, 12], [14, 16, 18]]\n",
            "1\n"
          ]
        }
      ]
    },
    {
      "cell_type": "markdown",
      "source": [
        "# Praktikum 06 - Studi Kasus: Pengelolaan Nilai Mahasiswa"
      ],
      "metadata": {
        "id": "rb9zgmyOSsyl"
      }
    },
    {
      "cell_type": "code",
      "source": [
        "nilai = [\n",
        "    [80, 90, 85],\n",
        "    [70, 75, 80],\n",
        "    [88, 92, 84]\n",
        "]\n",
        "\n",
        "for i, baris in enumerate(nilai, start=1):\n",
        "    rata = sum(baris) / len(baris)\n",
        "    print(f\"Rata-rata mahasiswa {i}: {rata:.2f}\")\n"
      ],
      "metadata": {
        "colab": {
          "base_uri": "https://localhost:8080/"
        },
        "id": "W3GtgAYbS3H9",
        "outputId": "5ab21328-7615-4e1b-f00d-272f7f88fbbe"
      },
      "execution_count": null,
      "outputs": [
        {
          "output_type": "stream",
          "name": "stdout",
          "text": [
            "Rata-rata mahasiswa 1: 85.00\n",
            "Rata-rata mahasiswa 2: 75.00\n",
            "Rata-rata mahasiswa 3: 88.00\n"
          ]
        }
      ]
    },
    {
      "cell_type": "markdown",
      "source": [
        "# Penugasan 01 - Akses Elemen List"
      ],
      "metadata": {
        "id": "r40nfkw-b-4F"
      }
    },
    {
      "cell_type": "code",
      "source": [
        "mahasiswa = [\"Amir\", \"Faqih\", \"Abi\", \"Faiq\", \"Budi\"]\n",
        "\n",
        "print(\"Nama pertama:\",mahasiswa[0])\n",
        "print(\"Nama terakhir:\",mahasiswa[-1])\n",
        "print(\"Nama pada indeks ke-2:\",mahasiswa[2])"
      ],
      "metadata": {
        "id": "2K9HP0VpVnw1",
        "colab": {
          "base_uri": "https://localhost:8080/"
        },
        "outputId": "4072d30e-1473-4299-94be-37f330709635"
      },
      "execution_count": 1,
      "outputs": [
        {
          "output_type": "stream",
          "name": "stdout",
          "text": [
            "Nama pertama: Amir\n",
            "Nama terakhir: Budi\n",
            "Nama pada indeks ke-2: Abi\n"
          ]
        }
      ]
    },
    {
      "cell_type": "markdown",
      "source": [
        "# Penugasan 02 - Operasi Dasar List"
      ],
      "metadata": {
        "id": "qHKful8OczDu"
      }
    },
    {
      "cell_type": "code",
      "source": [
        "nilai = [70, 75, 80]\n",
        "\n",
        "nilai[1] = 85\n",
        "nilai.append(90)\n",
        "nilai.remove(70)\n",
        "print(\"Hasil akhir list nilai:\",nilai)"
      ],
      "metadata": {
        "colab": {
          "base_uri": "https://localhost:8080/"
        },
        "id": "l8j0ct9Pc3W3",
        "outputId": "9490528e-eea2-47c5-b7ac-abc2594dba11"
      },
      "execution_count": 2,
      "outputs": [
        {
          "output_type": "stream",
          "name": "stdout",
          "text": [
            "Hasil akhir list nilai: [85, 80, 90]\n"
          ]
        }
      ]
    },
    {
      "cell_type": "markdown",
      "source": [
        "# Penugasan 03 - Slicing List"
      ],
      "metadata": {
        "id": "V-k8M9xcdWC0"
      }
    },
    {
      "cell_type": "code",
      "source": [
        "angka = [1, 2, 3, 4, 5, 6, 7, 8, 9, 10]\n",
        "\n",
        "print(\"3 elemen pertama:\", angka[:3])\n",
        "print(\"4 elemen terakhir:\", angka[-4:])\n",
        "print(\"elemen dengan indeks genap saja:\", angka[::2])"
      ],
      "metadata": {
        "colab": {
          "base_uri": "https://localhost:8080/"
        },
        "id": "T8yNTIMedQrm",
        "outputId": "c5068194-45ca-4bed-ef31-80803fd65e52"
      },
      "execution_count": 3,
      "outputs": [
        {
          "output_type": "stream",
          "name": "stdout",
          "text": [
            "3 elemen pertama: [1, 2, 3]\n",
            "4 elemen terakhir: [7, 8, 9, 10]\n",
            "elemen dengan indeks genap saja: [1, 3, 5, 7, 9]\n"
          ]
        }
      ]
    },
    {
      "cell_type": "markdown",
      "source": [
        "# Penugasan 04 - List 2D - Matriks"
      ],
      "metadata": {
        "id": "iGLjDqfVeBCY"
      }
    },
    {
      "cell_type": "code",
      "source": [
        "matriks = [\n",
        "    [1, 2, 3],\n",
        "    [4, 5, 6]\n",
        "]\n",
        "\n",
        "print(\"Baris pertama kolom kedua:\", matriks[0][1])\n",
        "print(\"Baris kedua kolom ketiga:\", matriks[1][2])\n",
        "print(\"Seluruh baris pertama:\", matriks[0])\n"
      ],
      "metadata": {
        "colab": {
          "base_uri": "https://localhost:8080/"
        },
        "id": "C7Mdzjp7d5AE",
        "outputId": "256ebc21-7ad7-4db6-fc16-43c6573f7cb8"
      },
      "execution_count": 6,
      "outputs": [
        {
          "output_type": "stream",
          "name": "stdout",
          "text": [
            "Baris pertama kolom kedua: 2\n",
            "Baris kedua kolom ketiga: 6\n",
            "Seluruh baris pertama: [1, 2, 3]\n"
          ]
        }
      ]
    },
    {
      "cell_type": "markdown",
      "source": [
        "# Penugasan 05 - Operasi Matriks 2D"
      ],
      "metadata": {
        "id": "h0pkUKgLesFh"
      }
    },
    {
      "cell_type": "code",
      "source": [
        "A = [\n",
        "    [1, 2],\n",
        "    [3, 4]\n",
        "]\n",
        "\n",
        "B = [\n",
        "    [5, 6],\n",
        "    [7, 8]\n",
        "]\n",
        "\n",
        "C = []\n",
        "\n",
        "for i in range(len(A)):\n",
        "    baris = []\n",
        "    for j in range(len(A[0])):\n",
        "        baris.append(A[i][j] + B[i][j])\n",
        "    C.append(baris)\n",
        "\n",
        "print(\"Hasil penjumlahan matriks A dan B:\")\n",
        "for baris in C:\n",
        "    print(baris)\n",
        "\n"
      ],
      "metadata": {
        "id": "vDV4SOeieqtJ",
        "outputId": "3a94dac4-10b1-4b1e-f154-c32f7759d7b8",
        "colab": {
          "base_uri": "https://localhost:8080/"
        }
      },
      "execution_count": 12,
      "outputs": [
        {
          "output_type": "stream",
          "name": "stdout",
          "text": [
            "Hasil penjumlahan matriks A dan B:\n",
            "[6, 8]\n",
            "[10, 12]\n"
          ]
        }
      ]
    },
    {
      "cell_type": "markdown",
      "source": [
        "# Penugasan 06 - Rata - rata Nilai Mahasiswa"
      ],
      "metadata": {
        "id": "Vx0OIlcQfNFL"
      }
    },
    {
      "cell_type": "code",
      "source": [
        "nilai = [\n",
        "    [75, 80, 85],\n",
        "    [60, 70, 65],\n",
        "    [90, 95, 92]\n",
        "    ]\n",
        "\n",
        "for i, baris in enumerate(nilai, start=1):\n",
        "    rata = sum(baris) / len(baris)\n",
        "    print(f\"Rata - rata nilai mahasiswa {i}: {rata:.2f}\")\n",
        "\n"
      ],
      "metadata": {
        "id": "MY3F6z7dfS7X",
        "outputId": "15a37c47-f44a-42ad-a556-a59ca251b13b",
        "colab": {
          "base_uri": "https://localhost:8080/"
        }
      },
      "execution_count": 13,
      "outputs": [
        {
          "output_type": "stream",
          "name": "stdout",
          "text": [
            "Rata - rata nilai mahasiswa 1: 80.00\n",
            "Rata - rata nilai mahasiswa 2: 65.00\n",
            "Rata - rata nilai mahasiswa 3: 92.33\n"
          ]
        }
      ]
    },
    {
      "cell_type": "markdown",
      "source": [
        "# Penugasan 07 - Studi Kasus - Data Toko"
      ],
      "metadata": {
        "id": "LPQqXVpkfqm3"
      }
    },
    {
      "cell_type": "code",
      "source": [
        "stok = [\n",
        "    [\"Buku\", 20],\n",
        "    [\"pulpen\", 35],\n",
        "    [\"Penghapus\", 15]\n",
        "]\n",
        "\n",
        "print(\"Daftar Stok Barang:\")\n",
        "for item in stok:\n",
        "    print(f\"{item[0]}: {item[1]}\")\n",
        "\n",
        "barang_terbanyak = max(stok, key=lambda x: x[1])\n",
        "\n",
        "print(\"\\nBarang dengan stok terbanyak:\")\n",
        "print(f\"{barang_terbanyak[0]} ({barang_terbanyak[1]}) buah\")"
      ],
      "metadata": {
        "id": "hTl46OrxfxF7",
        "outputId": "d75c426e-90c8-4b62-b481-d516a0b11f27",
        "colab": {
          "base_uri": "https://localhost:8080/"
        }
      },
      "execution_count": 15,
      "outputs": [
        {
          "output_type": "stream",
          "name": "stdout",
          "text": [
            "Daftar Stok Barang:\n",
            "Buku: 20\n",
            "pulpen: 35\n",
            "Penghapus: 15\n",
            "\n",
            "Barang dengan stok terbanyak:\n",
            "pulpen (35) buah\n"
          ]
        }
      ]
    }
  ]
}